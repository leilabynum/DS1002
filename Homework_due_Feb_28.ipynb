{
  "nbformat": 4,
  "nbformat_minor": 0,
  "metadata": {
    "colab": {
      "provenance": [],
      "authorship_tag": "ABX9TyNRitoXaeuc2nD5Hxt+S9ds",
      "include_colab_link": true
    },
    "kernelspec": {
      "name": "python3",
      "display_name": "Python 3"
    },
    "language_info": {
      "name": "python"
    }
  },
  "cells": [
    {
      "cell_type": "markdown",
      "metadata": {
        "id": "view-in-github",
        "colab_type": "text"
      },
      "source": [
        "<a href=\"https://colab.research.google.com/github/leilabynum/DS1002/blob/main/Homework_due_Feb_28.ipynb\" target=\"_parent\"><img src=\"https://colab.research.google.com/assets/colab-badge.svg\" alt=\"Open In Colab\"/></a>"
      ]
    },
    {
      "cell_type": "code",
      "execution_count": 1,
      "metadata": {
        "colab": {
          "base_uri": "https://localhost:8080/"
        },
        "id": "X1XgR9MsNqas",
        "outputId": "4e8fa9da-f3d2-4d64-c8fa-64b85e2cd821"
      },
      "outputs": [
        {
          "output_type": "stream",
          "name": "stdout",
          "text": [
            "Collecting english_words\n",
            "  Downloading english-words-2.0.1.tar.gz (8.2 MB)\n",
            "\u001b[2K     \u001b[90m━━━━━━━━━━━━━━━━━━━━━━━━━━━━━━━━━━━━━━━━\u001b[0m \u001b[32m8.2/8.2 MB\u001b[0m \u001b[31m23.9 MB/s\u001b[0m eta \u001b[36m0:00:00\u001b[0m\n",
            "\u001b[?25h  Installing build dependencies ... \u001b[?25l\u001b[?25hdone\n",
            "  Getting requirements to build wheel ... \u001b[?25l\u001b[?25hdone\n",
            "  Preparing metadata (pyproject.toml) ... \u001b[?25l\u001b[?25hdone\n",
            "Building wheels for collected packages: english_words\n",
            "  Building wheel for english_words (pyproject.toml) ... \u001b[?25l\u001b[?25hdone\n",
            "  Created wheel for english_words: filename=english_words-2.0.1-py3-none-any.whl size=8196238 sha256=d9b537e2900ba1e2747c9247a3c4e6ff86b300b40635e8790297ba9d5e511595\n",
            "  Stored in directory: /root/.cache/pip/wheels/f0/e6/d9/16a123647999fe535f03a36e7af23eef203736d84c7ca25b0b\n",
            "Successfully built english_words\n",
            "Installing collected packages: english_words\n",
            "Successfully installed english_words-2.0.1\n"
          ]
        }
      ],
      "source": [
        "!pip install english_words\n",
        "from english_words import get_english_words_set\n",
        "words = get_english_words_set(['web2'], lower=True)"
      ]
    },
    {
      "cell_type": "code",
      "source": [
        "type(words)"
      ],
      "metadata": {
        "colab": {
          "base_uri": "https://localhost:8080/"
        },
        "id": "pH_brR6LOZmI",
        "outputId": "d8c6beda-f432-4f82-8681-5c6f21d2c066"
      },
      "execution_count": 2,
      "outputs": [
        {
          "output_type": "execute_result",
          "data": {
            "text/plain": [
              "set"
            ]
          },
          "metadata": {},
          "execution_count": 2
        }
      ]
    },
    {
      "cell_type": "code",
      "source": [
        "wordlist = list(words)\n",
        "len(wordlist)"
      ],
      "metadata": {
        "colab": {
          "base_uri": "https://localhost:8080/"
        },
        "id": "wqH0tY6tOkeW",
        "outputId": "577ac68d-f9bb-4e66-90df-ca664d4c9075"
      },
      "execution_count": 3,
      "outputs": [
        {
          "output_type": "execute_result",
          "data": {
            "text/plain": [
              "234450"
            ]
          },
          "metadata": {},
          "execution_count": 3
        }
      ]
    },
    {
      "cell_type": "code",
      "source": [
        "print(wordlist[0:10])"
      ],
      "metadata": {
        "colab": {
          "base_uri": "https://localhost:8080/"
        },
        "id": "-gd-ZHPZPQyn",
        "outputId": "9df4fedd-2d2f-48bf-97fd-5cc4f02d29f4"
      },
      "execution_count": 4,
      "outputs": [
        {
          "output_type": "stream",
          "name": "stdout",
          "text": [
            "['unscratched', 'garhwali', 'tartness', 'undiscoverable', 'archegone', 'sombrerite', 'insooth', 'circa', 'crouched', 'unprofound']\n"
          ]
        }
      ]
    },
    {
      "cell_type": "markdown",
      "source": [
        "first ten words are a random assortment of words that do not seem to be organized in a certain way."
      ],
      "metadata": {
        "id": "97B-5G8QPcEc"
      }
    },
    {
      "cell_type": "code",
      "source": [
        "alpha_list = sorted(wordlist)\n",
        "print(alpha_list[0:10])"
      ],
      "metadata": {
        "colab": {
          "base_uri": "https://localhost:8080/"
        },
        "id": "Y87QhsRQPzBB",
        "outputId": "ef852a4c-62cc-428f-d3b4-1c3e7779711a"
      },
      "execution_count": 5,
      "outputs": [
        {
          "output_type": "stream",
          "name": "stdout",
          "text": [
            "['a', 'aa', 'aal', 'aalii', 'aam', 'aani', 'aardvark', 'aardwolf', 'aaron', 'aaronic']\n"
          ]
        }
      ]
    },
    {
      "cell_type": "code",
      "source": [
        "start_a = 0\n",
        "for word in wordlist:\n",
        " if word[0] == 'a':\n",
        "  start_a += 1\n",
        "print(start_a)"
      ],
      "metadata": {
        "colab": {
          "base_uri": "https://localhost:8080/"
        },
        "id": "XR35sUMjQqsK",
        "outputId": "811cad3f-1134-4602-a4ac-d6fb31c2925c"
      },
      "execution_count": 20,
      "outputs": [
        {
          "output_type": "stream",
          "name": "stdout",
          "text": [
            "16982\n"
          ]
        }
      ]
    },
    {
      "cell_type": "code",
      "source": [
        "have_q = 0\n",
        "for word in wordlist:\n",
        "  if 'q' in word:\n",
        "    have_q += 1\n",
        "print(have_q)"
      ],
      "metadata": {
        "colab": {
          "base_uri": "https://localhost:8080/"
        },
        "id": "-b1PhhjcVBGo",
        "outputId": "084a7363-bb8b-4af8-bf8a-5732949b49f1"
      },
      "execution_count": 21,
      "outputs": [
        {
          "output_type": "stream",
          "name": "stdout",
          "text": [
            "3624\n"
          ]
        }
      ]
    },
    {
      "cell_type": "code",
      "source": [
        "no_e = 0\n",
        "for word in wordlist:\n",
        "  if 'e' not in word:\n",
        "    no_e += 1\n",
        "print(no_e)"
      ],
      "metadata": {
        "colab": {
          "base_uri": "https://localhost:8080/"
        },
        "id": "54xthRTbVtNm",
        "outputId": "6eb11eca-3250-4684-99db-fe845c9697dc"
      },
      "execution_count": 22,
      "outputs": [
        {
          "output_type": "stream",
          "name": "stdout",
          "text": [
            "76966\n"
          ]
        }
      ]
    },
    {
      "cell_type": "code",
      "source": [
        "import numpy as np\n",
        "wordlist_array = np.array(wordlist)\n",
        "alpha_list_array = np.array(alpha_list)\n",
        "alphabet = [chr(i) for i in range(ord('a'),ord('z')+1)]\n",
        "print(alphabet)"
      ],
      "metadata": {
        "colab": {
          "base_uri": "https://localhost:8080/"
        },
        "id": "Jr0J-P_JWNoA",
        "outputId": "e5021165-b46a-4a1a-999d-530f09fc75fe"
      },
      "execution_count": 29,
      "outputs": [
        {
          "output_type": "stream",
          "name": "stdout",
          "text": [
            "['a', 'b', 'c', 'd', 'e', 'f', 'g', 'h', 'i', 'j', 'k', 'l', 'm', 'n', 'o', 'p', 'q', 'r', 's', 't', 'u', 'v', 'w', 'x', 'y', 'z']\n"
          ]
        }
      ]
    },
    {
      "cell_type": "code",
      "source": [
        "import numpy as np\n",
        "import matplotlib.pyplot as plt\n",
        "\n",
        "letter_number = {letter: 0 for letter in alphabet}\n",
        "for word in wordlist_array:\n",
        "  first_letter = word[0]\n",
        "  if first_letter in alphabet:\n",
        "    letter_number[first_letter] += 1\n",
        "\n",
        "plt.bar(letter_number.keys(), letter_number.values())\n",
        "plt.xlabel('Alphabet')\n",
        "plt.ylabel('Number of words')\n",
        "plt.title('Number of words starting with each letter of the alphabet from wordlist')\n",
        "plt.show()\n",
        "\n"
      ],
      "metadata": {
        "colab": {
          "base_uri": "https://localhost:8080/",
          "height": 472
        },
        "id": "ThFqoiTxXXkc",
        "outputId": "94b6e6d4-ae17-4c37-fb33-c0b170f136dc"
      },
      "execution_count": 32,
      "outputs": [
        {
          "output_type": "display_data",
          "data": {
            "text/plain": [
              "<Figure size 640x480 with 1 Axes>"
            ],
            "image/png": "[encoded data removed]"
          },
          "metadata": {}
        }
      ]
    },
    {
      "cell_type": "code",
      "source": [
        "wordlist_descending = sorted(wordlist, key=len, reverse=True)\n",
        "longest_words = wordlist_descending[0:6]\n",
        "print(longest_words)"
      ],
      "metadata": {
        "colab": {
          "base_uri": "https://localhost:8080/"
        },
        "id": "KjsDhuCfY1DS",
        "outputId": "50ab38c9-19d2-4114-d233-f83ddd3004b0"
      },
      "execution_count": 33,
      "outputs": [
        {
          "output_type": "stream",
          "name": "stdout",
          "text": [
            "['antidisestablishmentarianism', 'thyroparathyroidectomize', 'scientificophilosophical', 'pathologicopsychological', 'formaldehydesulphoxylate', 'tetraiodophenolphthalein']\n"
          ]
        }
      ]
    },
    {
      "cell_type": "code",
      "source": [
        "import numpy as np\n",
        "import matplotlib.pyplot as plt\n",
        "\n",
        "word_length = [len(word) for word in wordlist]\n",
        "plt.hist(word_length, max(word_length) + 1)\n",
        "plt.xlabel('Word Length')\n",
        "plt.ylabel('Number of Words')\n",
        "plt.title('Histogram of Word Lengths')\n",
        "plt.show()"
      ],
      "metadata": {
        "colab": {
          "base_uri": "https://localhost:8080/",
          "height": 472
        },
        "id": "Mf7gW-exdfMQ",
        "outputId": "5f0775ac-57a2-4386-be2d-8817aa688cee"
      },
      "execution_count": 34,
      "outputs": [
        {
          "output_type": "display_data",
          "data": {
            "text/plain": [
              "<Figure size 640x480 with 1 Axes>"
            ],
            "image/png": "[encoded data removed]"
          },
          "metadata": {}
        }
      ]
    },
    {
      "cell_type": "code",
      "source": [
        "most_common_length = max(set(word_length), key=word_length.count)\n",
        "print(most_common_length)"
      ],
      "metadata": {
        "colab": {
          "base_uri": "https://localhost:8080/"
        },
        "id": "KUEj2yDFfSr7",
        "outputId": "2a6b3756-e570-45f1-9e60-5f5b5fa4ac83"
      },
      "execution_count": 35,
      "outputs": [
        {
          "output_type": "stream",
          "name": "stdout",
          "text": [
            "9\n"
          ]
        }
      ]
    }
  ]
}