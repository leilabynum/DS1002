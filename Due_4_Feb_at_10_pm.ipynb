{
  "nbformat": 4,
  "nbformat_minor": 0,
  "metadata": {
    "colab": {
      "provenance": [],
      "include_colab_link": true
    },
    "kernelspec": {
      "name": "python3",
      "display_name": "Python 3"
    },
    "language_info": {
      "name": "python"
    }
  },
  "cells": [
    {
      "cell_type": "markdown",
      "metadata": {
        "id": "view-in-github",
        "colab_type": "text"
      },
      "source": [
        "<a href=\"https://colab.research.google.com/github/leilabynum/DS1002/blob/main/Due_4_Feb_at_10_pm.ipynb\" target=\"_parent\"><img src=\"https://colab.research.google.com/assets/colab-badge.svg\" alt=\"Open In Colab\"/></a>"
      ]
    },
    {
      "cell_type": "markdown",
      "source": [
        "## DS 1002 homework due Sunday Feb 4 at 10 pm\n"
      ],
      "metadata": {
        "id": "zAw2bmn-TjFJ"
      }
    },
    {
      "cell_type": "markdown",
      "source": [
        "\n",
        "The notebook from Wednesday's class is in my GitHib repository, including the little script we wrote at the end to find mangos in a list of fruit.  The file is called `MorePythonBasics.ipynb`.\n",
        "\n",
        "(By the way I wondered if the correct spelling was \"mangos\" or \"mangoes\" and I found [this](https://www.mango.org/blog-mangos-or-mangoes/)!  Who knew?  There's a National Mango Board!  And they're prepared to adjudicate this and other difficult mango-related questions.)\n",
        "\n",
        "\n"
      ],
      "metadata": {
        "id": "Cmf4xleCSWCu"
      }
    },
    {
      "cell_type": "markdown",
      "source": [
        "### Problem 1:  finding fruit\n",
        "\n",
        "Adapt the function we wrote in class so that it takes two arguments,\n",
        "\n",
        "`fruit` and `hungryfor` ,\n",
        "\n",
        "and then searches through the list `fruit` for the item `hungryfor`.  The line that calls the function should look like\n",
        "\n",
        "`find_fruit(food, hungryfor)`\n",
        "\n",
        "Make it print out the results in the same way, so for example if `food` is what we entered in class and `hungryfor = \"tomatoes\"` then the output will be\n",
        "\n",
        "```python\n",
        "No tomatoes here.\n",
        "No tomatoes here.\n",
        "No tomatoes here.\n",
        "No tomatoes here.\n",
        "No tomatoes here.\n",
        "```\n",
        "Test your code by changing the values of `food` and `hungryfor` and make sure the output is what you expect.  Show a few outputs, each in its own code chunk.\n",
        "\n"
      ],
      "metadata": {
        "id": "rJLyGryAThhp"
      }
    },
    {
      "cell_type": "code",
      "source": [
        "# put code here"
      ],
      "metadata": {
        "id": "YXwLLFCt6H2f"
      },
      "execution_count": null,
      "outputs": []
    },
    {
      "cell_type": "code",
      "source": [
        "food = [\"pizza\", \"sushi\", hungryfor, \"taco\"]\n",
        "hungryfor = \"burger\""
      ],
      "metadata": {
        "id": "UBYv45y8vKT3"
      },
      "execution_count": 36,
      "outputs": []
    },
    {
      "cell_type": "code",
      "source": [
        "# put your first function call here, and make more code chunks for additional function calls"
      ],
      "metadata": {
        "id": "bYdqsfrh6KnE"
      },
      "execution_count": null,
      "outputs": []
    },
    {
      "cell_type": "code",
      "source": [
        "def find_food(food, hungryfor):\n",
        "  for fkjh in food:\n",
        "    if fkjh == hungryfor:\n",
        "      print(\"Hooray! I found burger.\")\n",
        "    else:\n",
        "      print(\"No burger here.\")\n",
        "\n",
        "find_food(food, hungryfor)\n"
      ],
      "metadata": {
        "id": "gmFzgQJwvfs_",
        "outputId": "502d769d-4567-46d6-a169-59ab06de41c8",
        "colab": {
          "base_uri": "https://localhost:8080/"
        }
      },
      "execution_count": 37,
      "outputs": [
        {
          "output_type": "stream",
          "name": "stdout",
          "text": [
            "No burger here.\n",
            "No burger here.\n",
            "Hooray! I found burger.\n",
            "No burger here.\n"
          ]
        }
      ]
    },
    {
      "cell_type": "code",
      "source": [
        "food = [\"pizza\", hungryfor, \"burger\", \"taco\"]\n",
        "hungryfor = \"sushi\"\n",
        "def find_food(food, hungryfor):\n",
        "  for fkjh in food:\n",
        "    if fkjh == hungryfor:\n",
        "      print(\"Hooray! I found sushi.\")\n",
        "    else:\n",
        "      print(\"No sushi here.\")\n",
        "\n",
        "find_food(food, hungryfor)"
      ],
      "metadata": {
        "id": "zySdDbwc-MBi",
        "outputId": "cabf2956-049d-42f6-bb09-708bda528e12",
        "colab": {
          "base_uri": "https://localhost:8080/"
        }
      },
      "execution_count": 49,
      "outputs": [
        {
          "output_type": "stream",
          "name": "stdout",
          "text": [
            "No sushi here.\n",
            "Hooray! I found sushi.\n",
            "No sushi here.\n",
            "No sushi here.\n"
          ]
        }
      ]
    },
    {
      "cell_type": "code",
      "source": [
        "food = [hungryfor, \"sushi\", \"burger\", \"taco\"]\n",
        "hungryfor = \"pizza\"\n",
        "def find_food(food, hungryfor):\n",
        "  for fkjh in food:\n",
        "    if fkjh == hungryfor:\n",
        "      print(\"Hooray! I found pizza.\")\n",
        "    else:\n",
        "      print(\"No pizza here.\")\n",
        "\n",
        "find_food(food, hungryfor)"
      ],
      "metadata": {
        "id": "PugmLbGF-kpD",
        "outputId": "1eaee1ae-ed6f-4005-ed6a-244b13ba1adc",
        "colab": {
          "base_uri": "https://localhost:8080/"
        }
      },
      "execution_count": 51,
      "outputs": [
        {
          "output_type": "stream",
          "name": "stdout",
          "text": [
            "Hooray! I found pizza.\n",
            "No pizza here.\n",
            "No pizza here.\n",
            "No pizza here.\n"
          ]
        }
      ]
    },
    {
      "cell_type": "markdown",
      "source": [
        "#### Notes\n",
        "1. Once you have run a code chunk in the notebook, it will remember that it has been run.  You don't have to call the function in the same code chunk where the function is defined.  In other words, to call the function with new inputs you can simply make a new code chunk, change the inputs, and call the function.  *You don't have to retype the definition of the function each time.*\n",
        "\n",
        "2. Make sure you clean things up when you're done, so you don't include old code that doesn't work or old incorrect outputs.\n"
      ],
      "metadata": {
        "id": "AMp-a1ym6W7w"
      }
    },
    {
      "cell_type": "markdown",
      "source": [
        "### Problem 2:  the `input()` function\n",
        "\n",
        "(a) Programming gets way more fun when you start to interact with your own programs!  Here is a function that lets you start doing that.  Run the following code and see what happens:\n"
      ],
      "metadata": {
        "id": "R-s9cZ6GYWNX"
      }
    },
    {
      "cell_type": "code",
      "source": [
        "input()\n",
        "print(\"Hello there!\")"
      ],
      "metadata": {
        "id": "IEK8O2qNYkXn",
        "outputId": "5658da47-aecb-427b-eede-4e9b147edccd",
        "colab": {
          "base_uri": "https://localhost:8080/"
        }
      },
      "execution_count": 24,
      "outputs": [
        {
          "output_type": "stream",
          "name": "stdout",
          "text": [
            "hi\n",
            "Hello there!\n"
          ]
        }
      ]
    },
    {
      "cell_type": "markdown",
      "source": [
        "(b) As you just saw, the code waits for you to enter something before it continues.  If you want to actually use the input in the code, you should assign its value to a variable:"
      ],
      "metadata": {
        "id": "sktZu8wWzFF6"
      }
    },
    {
      "cell_type": "code",
      "source": [
        "message = input()\n",
        "print(message)"
      ],
      "metadata": {
        "id": "fMmBkzbyz9Ty",
        "outputId": "2e1d6fb6-70c9-4e12-c9fe-4b051915fc37",
        "colab": {
          "base_uri": "https://localhost:8080/"
        }
      },
      "execution_count": 25,
      "outputs": [
        {
          "output_type": "stream",
          "name": "stdout",
          "text": [
            "hi\n",
            "hi\n"
          ]
        }
      ]
    },
    {
      "cell_type": "markdown",
      "source": [
        "(c) Now you can start interacting.  Write some code that asks the user what they are hungry for (using a print statement), and then takes the user input, and then runs the `find_fruit` function from the previous code block using the user input as the `hungryfor` variable.  Test your code, and then include a few different outputs that demonstrate that the code works."
      ],
      "metadata": {
        "id": "ny41z-dQYmjQ"
      }
    },
    {
      "cell_type": "code",
      "source": [
        "# put code here"
      ],
      "metadata": {
        "id": "SKAVoAZ00xOx"
      },
      "execution_count": null,
      "outputs": []
    },
    {
      "cell_type": "code",
      "source": [
        "print(\"what are you hungry for?\")\n",
        "user_input = input()\n",
        "hungryfor = user_input\n",
        "food = [hungryfor]\n",
        "def find_food(food, hungryfor):\n",
        "  for fkjh in food:\n",
        "    if fkjh == hungryfor:\n",
        "      print(\"Hooray! I found\"+ \" \" + user_input + \".\")\n",
        "\n",
        "find_food(food, hungryfor)"
      ],
      "metadata": {
        "id": "fFH56Drh0dmu",
        "outputId": "42efcad0-b108-4b4e-d4a5-982b80ce7d2e",
        "colab": {
          "base_uri": "https://localhost:8080/"
        }
      },
      "execution_count": 45,
      "outputs": [
        {
          "output_type": "stream",
          "name": "stdout",
          "text": [
            "what are you hungry for?\n",
            "soup\n",
            "Hooray! I found soup.\n"
          ]
        }
      ]
    },
    {
      "cell_type": "code",
      "source": [
        "print(\"what are you hungry for?\")\n",
        "user_input = input()\n",
        "hungryfor = user_input\n",
        "food = [hungryfor]\n",
        "def find_food(food, hungryfor):\n",
        "  for fkjh in food:\n",
        "    if fkjh == hungryfor:\n",
        "      print(\"Hooray! I found\"+ \" \" + user_input + \".\")\n",
        "\n",
        "find_food(food, hungryfor)"
      ],
      "metadata": {
        "id": "diFdkIed96yp",
        "outputId": "c5aeaa84-5825-4c25-a905-e6b075af6d44",
        "colab": {
          "base_uri": "https://localhost:8080/"
        }
      },
      "execution_count": 46,
      "outputs": [
        {
          "output_type": "stream",
          "name": "stdout",
          "text": [
            "what are you hungry for?\n",
            "cake\n",
            "Hooray! I found cake.\n"
          ]
        }
      ]
    },
    {
      "cell_type": "code",
      "source": [
        "print(\"what are you hungry for?\")\n",
        "user_input = input()\n",
        "hungryfor = user_input\n",
        "food = [hungryfor]\n",
        "def find_food(food, hungryfor):\n",
        "  for fkjh in food:\n",
        "    if fkjh == hungryfor:\n",
        "      print(\"Hooray! I found\"+ \" \" + user_input + \".\")\n",
        "\n",
        "find_food(food, hungryfor)"
      ],
      "metadata": {
        "id": "xjyAE50Z-CuE",
        "outputId": "034468d7-4ee3-40c2-81bb-417bcce0d7dd",
        "colab": {
          "base_uri": "https://localhost:8080/"
        }
      },
      "execution_count": 47,
      "outputs": [
        {
          "output_type": "stream",
          "name": "stdout",
          "text": [
            "what are you hungry for?\n",
            "pizza\n",
            "Hooray! I found pizza.\n"
          ]
        }
      ]
    },
    {
      "cell_type": "code",
      "source": [
        "# run it here, and add more code chunks for more runs"
      ],
      "metadata": {
        "id": "sQQVP1oa5dR7"
      },
      "execution_count": null,
      "outputs": []
    },
    {
      "cell_type": "markdown",
      "source": [
        "### Problem 3:  ratings  \n",
        "Write a piece of code which prompts a user with the question \"What is your rating? (1-10)\" and then asks for user input.  Let's say the input is 3.  Once the input is received, print out a message that says.\n",
        "\n",
        "\"Your rating is *** .\"\n",
        "\n",
        "Obviously, your program should print the number of stars corresponding to the input!  If the input is 5, it should print\n",
        "\n",
        "\"Your rating is ***** .\"\n",
        "\n",
        "Show at least two outputs of your code."
      ],
      "metadata": {
        "id": "5CWOlHBz0xoZ"
      }
    },
    {
      "cell_type": "code",
      "source": [
        "# put code here"
      ],
      "metadata": {
        "id": "MCWnTAUW2Gin"
      },
      "execution_count": null,
      "outputs": []
    },
    {
      "cell_type": "code",
      "source": [
        "print(\"what is your rating? (1-10)\")\n",
        "user_input = input()\n",
        "your_rating = int(user_input)\n",
        "print(\"Your rating is\" + \"*\" * your_rating)"
      ],
      "metadata": {
        "id": "WLhXBCWN_SeY",
        "outputId": "2b753a2b-729c-4b6e-efb5-e78762d3a390",
        "colab": {
          "base_uri": "https://localhost:8080/"
        }
      },
      "execution_count": 52,
      "outputs": [
        {
          "output_type": "stream",
          "name": "stdout",
          "text": [
            "what is your rating? (1-10)\n",
            "3\n",
            "Your rating is***\n"
          ]
        }
      ]
    },
    {
      "cell_type": "code",
      "source": [
        "# you might have to copy the code to show another output\n",
        "# (unless you figure out another way to do it)"
      ],
      "metadata": {
        "id": "nxm67oCk8Ukn"
      },
      "execution_count": null,
      "outputs": []
    },
    {
      "cell_type": "code",
      "source": [
        "print(\"what is your rating? (1-10)\")\n",
        "user_input = input()\n",
        "your_rating = int(user_input)\n",
        "print(\"Your rating is\" + \"*\" * your_rating)"
      ],
      "metadata": {
        "id": "xLAKpEdMAecU",
        "outputId": "3ddcf28e-92a1-4b3f-9186-c560298c3829",
        "colab": {
          "base_uri": "https://localhost:8080/"
        }
      },
      "execution_count": 53,
      "outputs": [
        {
          "output_type": "stream",
          "name": "stdout",
          "text": [
            "what is your rating? (1-10)\n",
            "7\n",
            "Your rating is*******\n"
          ]
        }
      ]
    },
    {
      "cell_type": "markdown",
      "source": [
        "You do not have to do this as part of the assignment, but one thing to think about with any code that has **interactivity** is that you want to make it **robust**.  This means you should imagine someone is *trying* to break your code, and you should try to make it as indestructible as possible.\n",
        "\n",
        "What will happen to your code if someone enters 3.5?  Or -12?  Or \"nonsense\"?  Test it and see.  Think about how you might guard against errors.\n"
      ],
      "metadata": {
        "id": "VRfc9puT2yac"
      }
    }
  ]
}