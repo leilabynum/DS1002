{
  "nbformat": 4,
  "nbformat_minor": 0,
  "metadata": {
    "colab": {
      "provenance": [],
      "authorship_tag": "ABX9TyNrAs23tkcd3fmh81eM00WF",
      "include_colab_link": true
    },
    "kernelspec": {
      "name": "python3",
      "display_name": "Python 3"
    },
    "language_info": {
      "name": "python"
    }
  },
  "cells": [
    {
      "cell_type": "markdown",
      "metadata": {
        "id": "view-in-github",
        "colab_type": "text"
      },
      "source": [
        "<a href=\"https://colab.research.google.com/github/leilabynum/DS1002/blob/main/Due_Monday_12_Feb.ipynb\" target=\"_parent\"><img src=\"https://colab.research.google.com/assets/colab-badge.svg\" alt=\"Open In Colab\"/></a>"
      ]
    },
    {
      "cell_type": "markdown",
      "source": [
        "Leila Bynum"
      ],
      "metadata": {
        "id": "DvBCdUY_6Gl_"
      }
    },
    {
      "cell_type": "code",
      "source": [
        "import numpy as np\n",
        "\n",
        "def guessing_game():\n",
        "  random_integer = np.random.randint(0,100)\n",
        "  print(\"I have a number between 0 and 100.\")\n",
        "  print(\"Guess my number.\")\n",
        "  while True:\n",
        "    guess = int(input())\n",
        "    if guess < 0:\n",
        "      print(\"Invalid input. Must be between 0 and 100.\")\n",
        "    if guess > 100:\n",
        "      print(\"Invalid input. Must be between 0 and 100.\")\n",
        "    if guess < random_integer and 0 >= 0:\n",
        "      print(\"Too low.\")\n",
        "    if guess > random_integer and 0 <= 100:\n",
        "      print (\"Too high.\")\n",
        "    if guess == random_integer:\n",
        "      print (\"You're right!\")\n",
        "      break\n",
        "\n"
      ],
      "metadata": {
        "id": "3D5X91PS7qGa"
      },
      "execution_count": 34,
      "outputs": []
    },
    {
      "cell_type": "code",
      "source": [
        "guessing_game()"
      ],
      "metadata": {
        "colab": {
          "base_uri": "https://localhost:8080/"
        },
        "id": "JV6lhBk3HI5N",
        "outputId": "973013a4-82ff-434e-c31f-ffe37ee0462b"
      },
      "execution_count": 35,
      "outputs": [
        {
          "output_type": "stream",
          "name": "stdout",
          "text": [
            "I have a number between 0 and 100.\n",
            "Guess my number.\n",
            "12\n",
            "Too high.\n",
            "6\n",
            "You're right!\n"
          ]
        }
      ]
    },
    {
      "cell_type": "markdown",
      "source": [
        "This assignment took me around 1.5 hours."
      ],
      "metadata": {
        "id": "HNVvadtjLx3a"
      }
    }
  ]
}