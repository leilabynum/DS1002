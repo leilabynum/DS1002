{
  "nbformat": 4,
  "nbformat_minor": 0,
  "metadata": {
    "colab": {
      "provenance": [],
      "include_colab_link": true
    },
    "kernelspec": {
      "name": "python3",
      "display_name": "Python 3"
    },
    "language_info": {
      "name": "python"
    }
  },
  "cells": [
    {
      "cell_type": "markdown",
      "metadata": {
        "id": "view-in-github",
        "colab_type": "text"
      },
      "source": [
        "<a href=\"https://colab.research.google.com/github/leilabynum/DS1002/blob/main/Assignments/13_Classes.ipynb\" target=\"_parent\"><img src=\"https://colab.research.google.com/assets/colab-badge.svg\" alt=\"Open In Colab\"/></a>"
      ]
    },
    {
      "cell_type": "markdown",
      "source": [
        "## Assignment:  Classes\n",
        "### Due Sunday 28 April at 10pm"
      ],
      "metadata": {
        "id": "5Vy93BSp9Tum"
      }
    },
    {
      "cell_type": "markdown",
      "source": [
        "1.  Define a class called `Person` that has attributes `lastName`, `firstName`, `mother`, and `father`.  Both `mother` and `father` should have default value `unknown`.\n",
        "\n",
        "  Include a `__str__()` function that returns a string of the form '`firstName` `lastName`'.\n",
        "\n",
        "  Include a `__repr__()` function that returns a string that can be evaluated to recreate the `Person` object.\n",
        "\n"
      ],
      "metadata": {
        "id": "vcj5XQAI9Wsb"
      }
    },
    {
      "cell_type": "code",
      "source": [
        "class Person:\n",
        "    def __init__(self, lastName, firstName, mother='unknown', father='unknown'):\n",
        "        self.lastName = lastName\n",
        "        self.firstName = firstName\n",
        "        self.mother = mother\n",
        "        self.father = father\n",
        "\n",
        "    def __str__(self):\n",
        "        return f\"{self.firstName} {self.lastName}\"\n",
        "\n",
        "    def __repr__(self):\n",
        "        return f\"Person('{self.lastName}', '{self.firstName}', mother='{self.mother}', father='{self.father}')\""
      ],
      "metadata": {
        "id": "mjHDwHv3EpVe"
      },
      "execution_count": 3,
      "outputs": []
    },
    {
      "cell_type": "markdown",
      "source": [
        "Create a person (i.e., a `Person` object) called `p` with unknown parents.  (You will need to give your person a first and last name.) Check the type of `p`.  Include all inputs and outputs."
      ],
      "metadata": {
        "id": "-ppMsEIVHINl"
      }
    },
    {
      "cell_type": "code",
      "source": [
        "class Person:\n",
        "    def __init__(self, lastName, firstName, mother='unknown', father='unknown'):\n",
        "        self.lastName = lastName\n",
        "        self.firstName = firstName\n",
        "        self.mother = mother\n",
        "        self.father = father\n",
        "\n",
        "    def __str__(self):\n",
        "        return f\"{self.firstName} {self.lastName}\"\n",
        "\n",
        "    def __repr__(self):\n",
        "        return f\"Person('{self.lastName}', '{self.firstName}', mother='{self.mother}', father='{self.father}')\"\n",
        "\n",
        "p = Person('Bynum', 'Leila')\n",
        "\n",
        "print(type(p))"
      ],
      "metadata": {
        "id": "5bwid_6gHIBH",
        "outputId": "22b65300-f940-4645-d7df-e7ffb4fa5b2e",
        "colab": {
          "base_uri": "https://localhost:8080/"
        }
      },
      "execution_count": 4,
      "outputs": [
        {
          "output_type": "stream",
          "name": "stdout",
          "text": [
            "<class '__main__.Person'>\n"
          ]
        }
      ]
    },
    {
      "cell_type": "markdown",
      "source": [
        "Verify that your `__str__` and `__repr__` functions are doing what they are supposed to do.  Include all inputs and outputs."
      ],
      "metadata": {
        "id": "Z6zlUC3xRtal"
      }
    },
    {
      "cell_type": "code",
      "source": [
        "print(repr(p))"
      ],
      "metadata": {
        "id": "jZO0dBQYRs-K",
        "outputId": "6f9b410e-dc07-4296-d3df-53ad3bc53dbc",
        "colab": {
          "base_uri": "https://localhost:8080/"
        }
      },
      "execution_count": 5,
      "outputs": [
        {
          "output_type": "stream",
          "name": "stdout",
          "text": [
            "Person('Bynum', 'Leila', mother='unknown', father='unknown')\n"
          ]
        }
      ]
    },
    {
      "cell_type": "markdown",
      "source": [
        "Suppose the mother of `p` has been found and is named Taylor Swift.  Create a new person named Taylor Swift, and make her the mother of `p`:\n",
        "\n",
        "```\n",
        "> p.mother\n",
        "'Taylor Swift'\n",
        "```"
      ],
      "metadata": {
        "id": "1mOAThQiHzoQ"
      }
    },
    {
      "cell_type": "code",
      "source": [
        "taylor_swift = Person('Swift', 'Taylor')\n",
        "p.mother = taylor_swift\n",
        "print(p.mother)"
      ],
      "metadata": {
        "id": "NYbDOorpHymz",
        "outputId": "889443e3-6ce8-4a74-b2eb-989386e52e98",
        "colab": {
          "base_uri": "https://localhost:8080/"
        }
      },
      "execution_count": 6,
      "outputs": [
        {
          "output_type": "stream",
          "name": "stdout",
          "text": [
            "Taylor Swift\n"
          ]
        }
      ]
    },
    {
      "cell_type": "markdown",
      "source": [
        "2.  Add some methods to your class.  Start by copying the `class` definition you already wrote.  Then, inside the `class` definition:\n",
        "\n",
        "  (a) Write a method called `unknownParent()` which returns `True` if any parent is 'unknown' and `False` otherwise.\n",
        "\n",
        "  (b) Write a method called `maternalGrandmother()` which returns the mother's mother.  If the mother is unknown, it should return 'unknown'.\n",
        "\n"
      ],
      "metadata": {
        "id": "1g1pcrmFHzGh"
      }
    },
    {
      "cell_type": "code",
      "source": [
        "class Person:\n",
        "    def __init__(self, lastName, firstName, mother='unknown', father='unknown'):\n",
        "        self.lastName = lastName\n",
        "        self.firstName = firstName\n",
        "        self.mother = mother\n",
        "        self.father = father\n",
        "\n",
        "    def __str__(self):\n",
        "        return f\"{self.firstName} {self.lastName}\"\n",
        "\n",
        "    def __repr__(self):\n",
        "        return f\"Person('{self.lastName}', '{self.firstName}', mother='{self.mother}', father='{self.father}')\"\n",
        "\n",
        "    def unknownParent(self):\n",
        "        return self.mother == 'unknown' or self.father == 'unknown'\n",
        "\n",
        "    def maternalGrandmother(self):\n",
        "        if self.mother == 'unknown':\n",
        "            return 'unknown'\n",
        "        else:\n",
        "            return self.mother.mother\n",
        "\n",
        "p = Person('Bynum', 'Leila')\n",
        "\n",
        "taylor_swift = Person('Swift', 'Taylor')\n",
        "\n",
        "p.mother = taylor_swift\n",
        "\n",
        "print(p.mother)\n",
        "print(p.unknownParent())\n",
        "print(p.maternalGrandmother())"
      ],
      "metadata": {
        "id": "7mIxJGwwKTpv",
        "outputId": "7a84f58a-4fe2-43ce-b7ff-8e09a9f0be18",
        "colab": {
          "base_uri": "https://localhost:8080/"
        }
      },
      "execution_count": 13,
      "outputs": [
        {
          "output_type": "stream",
          "name": "stdout",
          "text": [
            "Taylor Swift\n",
            "True\n",
            "unknown\n"
          ]
        }
      ]
    },
    {
      "cell_type": "markdown",
      "source": [
        "Create enough `Person` objects to test whether your methods are working properly.  Show all your inputs and outputs.  It is up to you to demonstrate that you have thoroughly tested the code.  You may use additional code and/or text chunks if it helps."
      ],
      "metadata": {
        "id": "l9-4gxd8FxAQ"
      }
    },
    {
      "cell_type": "code",
      "source": [
        "class Person:\n",
        "    def __init__(self, lastName, firstName, mother='unknown', father='unknown'):\n",
        "        self.lastName = lastName\n",
        "        self.firstName = firstName\n",
        "        self.mother = mother\n",
        "        self.father = father\n",
        "\n",
        "    def __str__(self):\n",
        "        return f\"{self.firstName} {self.lastName}\"\n",
        "\n",
        "    def __repr__(self):\n",
        "        return f\"Person('{self.lastName}', '{self.firstName}', mother='{self.mother}', father='{self.father}')\"\n",
        "\n",
        "    def unknownParent(self):\n",
        "        return self.mother == 'unknown' or self.father == 'unknown'\n",
        "\n",
        "    def maternalGrandmother(self):\n",
        "        if self.mother == 'unknown':\n",
        "            return 'unknown'\n",
        "        else:\n",
        "            return self.mother.mother\n",
        "\n",
        "p1 = Person('Bynum', 'Leila')\n",
        "p2 = Person('Kardashian', 'Kim', mother='unknown', father='Robert')\n",
        "p3 = Person('Swift', 'Taylor', mother='unknown', father='unknown')\n",
        "p4 = Person('Jenner', 'Kendall', mother=p2, father=p1)\n",
        "\n",
        "p1.mother = p2\n",
        "p1.father = p3\n",
        "\n",
        "p2.father = Person('Jenner', 'Bruce')\n",
        "\n",
        "p4.mother = Person('Kardashian', 'Kris')\n",
        "\n",
        "print(p1.unknownParent())\n",
        "print(p2.unknownParent())\n",
        "print(p3.unknownParent())\n",
        "print(p4.unknownParent())\n",
        "\n",
        "print(p1.maternalGrandmother())\n",
        "print(p4.maternalGrandmother())"
      ],
      "metadata": {
        "id": "gX1qpcKzFwoZ",
        "outputId": "95bf6cc1-a422-4c3f-e1e8-e825a9fcfadf",
        "colab": {
          "base_uri": "https://localhost:8080/"
        }
      },
      "execution_count": 15,
      "outputs": [
        {
          "output_type": "stream",
          "name": "stdout",
          "text": [
            "False\n",
            "True\n",
            "True\n",
            "False\n",
            "unknown\n",
            "unknown\n"
          ]
        }
      ]
    }
  ]
}