{
  "cells": [
    {
      "cell_type": "markdown",
      "metadata": {
        "id": "view-in-github",
        "colab_type": "text"
      },
      "source": [
        "<a href=\"https://colab.research.google.com/github/leilabynum/DS1002/blob/main/Assignments/10_Bulls_Cows.ipynb\" target=\"_parent\"><img src=\"https://colab.research.google.com/assets/colab-badge.svg\" alt=\"Open In Colab\"/></a>"
      ]
    },
    {
      "cell_type": "markdown",
      "metadata": {
        "id": "lSwr8T3SNrkj"
      },
      "source": [
        "## Bulls and Cows:\n",
        "### Another guessing game.\n",
        "### Assignment due Wednesday 10 April at 10 am\n",
        "\n",
        "General instructions:\n",
        "\n",
        "1. You may work in teams of up to three people.  As usual, if you do this, make sure all names are clearly displayed at the top of your submission, and all team members should submit the same GitHub URL.\n",
        "\n",
        "1. Use only basic Python code.  Do not use `numpy` arrays or functions.\n",
        "\n",
        "2. Practice utilizing the coding concepts we have studied.  \n",
        "\n",
        "3. Write docstrings for all your functions.\n",
        "\n"
      ]
    },
    {
      "cell_type": "markdown",
      "source": [
        "Leila Bynum and Sophie Hanna"
      ],
      "metadata": {
        "id": "my7w-oaBDWcD"
      }
    },
    {
      "cell_type": "markdown",
      "metadata": {
        "id": "qrWRyeI2NwHA"
      },
      "source": [
        "### Goal:  program this game\n",
        "In this assignment you will program a version of an old game called Bulls and Cows.  It is somewhat similar to Wordle, but with numbers instead of words (and various other differences . . . read carefully!).\n",
        "\n",
        "The game is played like this:  \n",
        "1. The computer will choose a secret code that the player is trying to guess.\n",
        "2. The secret code will be 4 digits long.  It will use only the digits 1-6, and it will have no repeated digits.  For example the secret code might be 1326 or 6241 but it cannot be 2652 or 4913 or 2601.\n",
        "3. The computer will prompt the user for a guess, and the user will guess.  The guess must follow the same rules (4 digits long, only use digits 1-6, no repeats).  The program should not allow an invalid guess.\n",
        "4. After each guess, the computer will give feedback to the user as follows:  \n",
        "(i) Each digit of the guess that is in the secret code and in the correct position is called a Bull (B).  \n",
        "(ii) Each digit of the guess that exists somewhere in the secret code, but *not* in the same position as in the guess, is called a Cow (C).  \n",
        "(iii) A digit of the guess that doesn't occur anywhere in the secret code is called a miss (X).  \n",
        "The computer will inform the user how many Bulls, how many Cows, and how many misses the user's guess had.  \n",
        "The feedback will always start with B's, then list C's, then list X's.  \n",
        "For example if the secret code is 1326  \n",
        "and the guess is 4316  \n",
        "then the computer should respond with \"BBCX\"  \n",
        "because there are two Bulls (the 3 and the 6 are Bulls, because they occur in the same position in the guess as in the secret code),  \n",
        "one Cow (the 1, which is a correct digit but in the wrong position),  \n",
        "and one Miss (the 4, which does not occur anywhere in the secret code).  \n",
        "> **Important:** the feedback string should always list the Bulls first, then the Cows, then the Misses.  It should **not** tell the user which digits are which!  The only information in the feedback string is how many of each there are.  In the example above, for instance, the feedback is **not** \"XBCB\" but rather \"BBCX\".  This is different from Wordle, if you are familiar with that game.\n",
        "5. The user should then be prompted for another guess.  This guess-with-feedback process should be repeated until the user gets the correct code, at which point the computer should indicate that they have won the game.  However, the user should only be allowed 6 guesses; if they don't guess correctly in 6 attempts, then following the feedback from their final guess they should get a message that they have lost the game, and the secret code should be revealed.\n",
        "\n",
        "\n",
        "\n",
        "\n",
        "\n",
        "\n",
        "\n"
      ]
    },
    {
      "cell_type": "markdown",
      "source": [
        "### Steps\n",
        "We will build this game using several functions.  \n",
        "\n",
        "1. **Count the Bulls:**  \n",
        "Write a function that takes two lists of the same length, and returns the number of Bulls.  That is, it should return the number of indices where the lists contain the same element.  *(Note:  you don't have to check that the entries are between 1 and 6, or that there are no repeats, etc.  A different function will do that.)*\n",
        "\n",
        "> A sample run might look like\n",
        "```\n",
        "first = [11, 3, 17, 5, 1]\n",
        "second = [20, 2, 17, 3, 1]\n",
        "count_bulls(first,second)\n",
        "```\n",
        "```\n",
        " 2\n",
        "```\n"
      ],
      "metadata": {
        "id": "XSH1JULaurD1"
      }
    },
    {
      "cell_type": "code",
      "source": [
        "def count_bulls(first, second):\n",
        "    bulls = 0\n",
        "\n",
        "    for i in range(len(first)):\n",
        "        if first[i] == second[i]:\n",
        "            bulls += 1\n",
        "\n",
        "    return bulls\n",
        "\n",
        "first = [11, 3, 17, 5, 1]\n",
        "second = [20, 2, 17, 3, 1]\n",
        "print(count_bulls(first, second))"
      ],
      "metadata": {
        "id": "Y83IZY0uI3Ss",
        "outputId": "c1e9b79e-5778-4399-ca6d-e319d632f65e",
        "colab": {
          "base_uri": "https://localhost:8080/"
        }
      },
      "execution_count": 10,
      "outputs": [
        {
          "output_type": "stream",
          "name": "stdout",
          "text": [
            "2\n"
          ]
        }
      ]
    },
    {
      "cell_type": "markdown",
      "source": [
        "Define your function in the code chunk below.  The function definition command and the return command are pre-populated for you.  You just have to fill in the part which does the actual counting.  I recommend using a list comprehension to do this.\n"
      ],
      "metadata": {
        "id": "pXoOyBk7xmPa"
      }
    },
    {
      "cell_type": "code",
      "source": [
        "# the Bull-counting function\n",
        "def count_bulls(first, second):\n",
        "  '''\n",
        "  Takes two lists of the same length and computes the number of positions where the list entries agree.\n",
        "  '''\n",
        "  num_bulls =  sum([1 for x, y in zip(first, second) if x == y])  # finish this line of code to make the function function!\n",
        "  return num_bulls"
      ],
      "metadata": {
        "id": "vEsRSe8KxlcF"
      },
      "execution_count": 13,
      "outputs": []
    },
    {
      "cell_type": "markdown",
      "source": [
        "Add code and/or text chunks below to demonstrate that you have tested your code and that it works correctly."
      ],
      "metadata": {
        "id": "yACJyJtOzE2U"
      }
    },
    {
      "cell_type": "code",
      "source": [
        "first = [1, 2, 3, 4, 5]\n",
        "second = [5, 4, 3, 2, 1]\n",
        "\n",
        "result = count_bulls(first, second)\n",
        "\n",
        "print(f\"Test Case 1: Number of Bulls = {result}\")"
      ],
      "metadata": {
        "id": "wbK8nRW-MHEm",
        "outputId": "7537c6c1-9902-4bbb-c8b6-084184719ec1",
        "colab": {
          "base_uri": "https://localhost:8080/"
        }
      },
      "execution_count": 14,
      "outputs": [
        {
          "output_type": "stream",
          "name": "stdout",
          "text": [
            "Test Case 1: Number of Bulls = 1\n"
          ]
        }
      ]
    },
    {
      "cell_type": "code",
      "source": [
        "first = [1, 1, 1, 1, 1]\n",
        "second = [1, 1, 1, 1, 1]\n",
        "\n",
        "result = count_bulls(first, second)\n",
        "\n",
        "print(f\"Test Case 2: Number of Bulls = {result}\")"
      ],
      "metadata": {
        "id": "RpOENXjKMhNv",
        "outputId": "e3d83cf4-8b31-4959-e6df-9cd904e13f14",
        "colab": {
          "base_uri": "https://localhost:8080/"
        }
      },
      "execution_count": 15,
      "outputs": [
        {
          "output_type": "stream",
          "name": "stdout",
          "text": [
            "Test Case 2: Number of Bulls = 5\n"
          ]
        }
      ]
    },
    {
      "cell_type": "markdown",
      "source": [
        "2. **Count something else:**  \n",
        "To count the cows it will be helpful first to count how many of the elements occur in both strings, without paying attention their positions.\n",
        "Write a function called `count_animals` that takes two lists of the same length, and returns the number of elements of the second list that are also in the first list.  (In the game setting, each such element is either a Bull or a Cow, but don't worry about which is which for this problem.)\n",
        "You may assume the lists do not contain repeated elements, since this will be the case when the function is called in the game.\n",
        "\n",
        "> This time a sample run might look like\n",
        "```\n",
        "first = [11, 3, 17, 5, 1]\n",
        "second = [20, 2, 17, 3, 1]\n",
        "count_animals(first,second)\n",
        "```\n",
        "```\n",
        " 3\n",
        "```\n",
        "\n",
        "This one isn't started for you.  Remember to include a docstring.  This can also be done using a list comprehension, similar to the previous function.\n",
        "\n"
      ],
      "metadata": {
        "id": "aMsOmejkzNVN"
      }
    },
    {
      "cell_type": "code",
      "source": [
        "def count_animals(first, second):\n",
        "  num_animals = sum([1 for x in second if x in first])\n",
        "  return num_animals\n",
        "\n",
        "first = [10, 3, 17, 5, 1]\n",
        "second = [20, 1, 17, 3, 5]\n",
        "\n",
        "print(count_animals(first, second))"
      ],
      "metadata": {
        "id": "V1SuUdeOM3ka",
        "outputId": "4d7b7cd1-90fb-4c5a-a15a-040a1dacf79a",
        "colab": {
          "base_uri": "https://localhost:8080/"
        }
      },
      "execution_count": 17,
      "outputs": [
        {
          "output_type": "stream",
          "name": "stdout",
          "text": [
            "4\n"
          ]
        }
      ]
    },
    {
      "cell_type": "code",
      "source": [
        "# define your function here\n",
        "def count_animals(first, second):\n",
        "    '''\n",
        "    Takes two lists of the same length and computes the number of elements of the second list that are also in the first list.\n",
        "    '''\n",
        "    num_animals = sum([1 for x in second if x in first])\n",
        "    return num_animals"
      ],
      "metadata": {
        "id": "yRX219q02e6i"
      },
      "execution_count": 19,
      "outputs": []
    },
    {
      "cell_type": "markdown",
      "source": [
        "Again, demonstrate below that you have tested your code and that it works."
      ],
      "metadata": {
        "id": "HXRNwANS2f-4"
      }
    },
    {
      "cell_type": "code",
      "source": [
        "first = [1, 2, 3, 4, 5]\n",
        "second = [5, 4, 3, 2, 1]\n",
        "\n",
        "print(count_animals(first, second))"
      ],
      "metadata": {
        "id": "XQr_rQIzOYK2",
        "outputId": "ae48e7d0-5a1c-42ba-d787-8365bfc83c21",
        "colab": {
          "base_uri": "https://localhost:8080/"
        }
      },
      "execution_count": 22,
      "outputs": [
        {
          "output_type": "stream",
          "name": "stdout",
          "text": [
            "5\n"
          ]
        }
      ]
    },
    {
      "cell_type": "code",
      "source": [
        "first = [2, 16, 11, 0, 12]\n",
        "second = {18, 12, 21, 0, 4}\n",
        "\n",
        "print(count_animals(first, second))"
      ],
      "metadata": {
        "id": "gCCKTQG2Okat",
        "outputId": "44b8dfd6-163a-4765-fa1f-46b17e1ac41e",
        "colab": {
          "base_uri": "https://localhost:8080/"
        }
      },
      "execution_count": 23,
      "outputs": [
        {
          "output_type": "stream",
          "name": "stdout",
          "text": [
            "2\n"
          ]
        }
      ]
    },
    {
      "cell_type": "markdown",
      "source": [
        "3. **Count the cows:**  \n",
        "Write a function called `count_cows` that counts the cows.  \n",
        "> This time a sample run might look like\n",
        "```\n",
        "first = [11, 3, 17, 5, 1]\n",
        "second = [20, 2, 17, 3, 1]\n",
        "count_cows(first,second)\n",
        "```\n",
        "```\n",
        " 1\n",
        "```\n",
        "*Use the two previously defined functions to help you!  \n",
        "In fact, remember that the only reason we wrote the `count_animals` function was to help count the cows.*\n",
        "\n",
        "You can do this with only two lines of code, not counting documentation!"
      ],
      "metadata": {
        "id": "x2DAPkxj2GMo"
      }
    },
    {
      "cell_type": "code",
      "source": [
        "# put the Cow counting function here\n",
        "def count_cows(first, second):\n",
        "    '''\n",
        "    Takes two lists of the same length and compute the number of Cows.\n",
        "    '''\n",
        "    num_bulls = count_bulls(first, second)\n",
        "    num_animals = count_animals(first, second)\n",
        "    num_cows = num_animals - num_bulls\n",
        "    return num_cows"
      ],
      "metadata": {
        "id": "QnxnaOPI3YZO"
      },
      "execution_count": 24,
      "outputs": []
    },
    {
      "cell_type": "code",
      "source": [
        "first = [2, 16, 11, 0, 12]\n",
        "second = {18, 12, 21, 0, 4}\n",
        "\n",
        "print(count_cows(first, second))"
      ],
      "metadata": {
        "id": "F9TmpD9oPW4M",
        "outputId": "87a7a217-7b14-4703-8a6c-da6552010ce2",
        "colab": {
          "base_uri": "https://localhost:8080/"
        }
      },
      "execution_count": 25,
      "outputs": [
        {
          "output_type": "stream",
          "name": "stdout",
          "text": [
            "1\n"
          ]
        }
      ]
    },
    {
      "cell_type": "code",
      "source": [
        "first = [1, 2, 3, 4, 5]\n",
        "second = [5, 4, 3, 2, 1]\n",
        "\n",
        "print(count_cows(first, second))"
      ],
      "metadata": {
        "id": "7laFUrq-PiqF",
        "outputId": "db3175bf-8cb4-4f63-c112-c2c53fe89f38",
        "colab": {
          "base_uri": "https://localhost:8080/"
        }
      },
      "execution_count": 26,
      "outputs": [
        {
          "output_type": "stream",
          "name": "stdout",
          "text": [
            "4\n"
          ]
        }
      ]
    },
    {
      "cell_type": "markdown",
      "metadata": {
        "id": "hWQhYDIVYjXr"
      },
      "source": [
        "4. **Create feedback string**  \n",
        "Write a `build_response_str` function that takes three numbers, say `b,c,l`, and outputs a string of total length `l` that consists of `b` B's, followed by `c` C's, and the rest X's (until the total length is `l`).\n",
        "\n",
        "> Sample run:\n",
        "```\n",
        "build_response_str(4,3,9)\n",
        "```\n",
        "```\n",
        "BBBBCCCXX\n",
        "```"
      ]
    },
    {
      "cell_type": "code",
      "source": [
        "# define your function here\n",
        "def build_response_str(b, c, l):\n",
        "    '''\n",
        "    Builds a response string consisting of b B's, followed by c C's, and the rest X's.\n",
        "\n",
        "    Parameters:\n",
        "    - b: The number of bulls\n",
        "    - c: The number of cows\n",
        "    - l: The total length of the response string\n",
        "    '''\n",
        "    response = 'B' * b + 'C' * c + 'X' * (l - b - c)\n",
        "    return response"
      ],
      "metadata": {
        "id": "GSimWqUsMaPE"
      },
      "execution_count": 27,
      "outputs": []
    },
    {
      "cell_type": "markdown",
      "source": [
        "Test your code here."
      ],
      "metadata": {
        "id": "2D14kxTU7ApH"
      }
    },
    {
      "cell_type": "code",
      "source": [
        "b = 5\n",
        "c = 3\n",
        "l = 9\n",
        "\n",
        "print(build_response_str(b, c, l))"
      ],
      "metadata": {
        "id": "z3-UuMSSQFJ3",
        "outputId": "67b965bf-79fa-459c-86a3-c5bf87baeea9",
        "colab": {
          "base_uri": "https://localhost:8080/"
        }
      },
      "execution_count": 29,
      "outputs": [
        {
          "output_type": "stream",
          "name": "stdout",
          "text": [
            "BBBBBCCCX\n"
          ]
        }
      ]
    },
    {
      "cell_type": "markdown",
      "metadata": {
        "id": "omzE6sLKwsMC"
      },
      "source": [
        "5.  **Generate feedback for guesses**  \n",
        "Write a function `response(first,second)` that takes two lists of the same length, and outputs a string consisting of some number of B's followed by some number of C's followed by some number of X's, where the numbers correspond to the things we counted above.  That is, if `first` were the secret code in the game and `second` were the user's guess, then we would print one B for each Bull, one C for each Cow, and one X for each Miss. The total output string should have the same length as the input strings.\n",
        "\n",
        "> Sample run:\n",
        "```\n",
        "first = [11, 3, 17, 5, 1]\n",
        "second = [20, 2, 17, 3, 1]\n",
        "response(first,second)\n",
        "```\n",
        "```\n",
        " BBCXX\n",
        "```\n",
        "\n",
        "With all the functions you've already put in place, this should be simple.  Test your code once it's written.\n"
      ]
    },
    {
      "cell_type": "code",
      "source": [
        "def response(first, second):\n",
        "    '''\n",
        "    Generates a feedback string based on the bulls, cows, and misses.\n",
        "    '''\n",
        "    b = count_bulls(first, second)\n",
        "    c = count_cows(first, second)\n",
        "    l = len(first)\n",
        "\n",
        "    response_str = build_response_str(b, c, l)\n",
        "    return response_str"
      ],
      "metadata": {
        "id": "RD1qq7l783y5"
      },
      "execution_count": 30,
      "outputs": []
    },
    {
      "cell_type": "code",
      "source": [
        "first = [18, 10, 3, 7, 11]\n",
        "second = [18, 12, 7, 5, 8]\n",
        "\n",
        "print(response(first,second))"
      ],
      "metadata": {
        "id": "fEYKhHRFQmxy",
        "outputId": "97cca445-1d30-4107-9809-33f4a904c31f",
        "colab": {
          "base_uri": "https://localhost:8080/"
        }
      },
      "execution_count": 31,
      "outputs": [
        {
          "output_type": "stream",
          "name": "stdout",
          "text": [
            "BCXXX\n"
          ]
        }
      ]
    },
    {
      "cell_type": "markdown",
      "metadata": {
        "id": "LWshNPjPZJdQ"
      },
      "source": [
        "6.  **Choose the secret code**  \n",
        "The `random` package, and specifically the `sample` sub-package, is useful for generating random samples.  Try running the following lines of code several times.\n",
        "\n"
      ]
    },
    {
      "cell_type": "code",
      "source": [
        "from random import sample\n",
        "\n",
        "sample(range(1,7),4)  # the first argument is the population to be sampled, and the second is the number of samples\n",
        "                      # recall that `range(a,b)` includes `a` but stops at `b-1`"
      ],
      "metadata": {
        "id": "OzEZ5BQZ85jV",
        "outputId": "f901e9c6-21f1-4937-c6ce-13dc5d3e49cc",
        "colab": {
          "base_uri": "https://localhost:8080/"
        }
      },
      "execution_count": 41,
      "outputs": [
        {
          "output_type": "execute_result",
          "data": {
            "text/plain": [
              "[4, 5, 2, 1]"
            ]
          },
          "metadata": {},
          "execution_count": 41
        }
      ]
    },
    {
      "cell_type": "markdown",
      "source": [
        "What type of object is returned by the `sample` function?\n"
      ],
      "metadata": {
        "id": "N1BOe2Xd-kr4"
      }
    },
    {
      "cell_type": "markdown",
      "source": [
        "a list that contains four numbers none greater than 6 or less than one"
      ],
      "metadata": {
        "id": "yGZw8xFZ-uN4"
      }
    },
    {
      "cell_type": "markdown",
      "source": [
        "7. **Verify the guess**  \n",
        "Finish writing a function called `get_guess` (started below) to prompt the user for a guess and then make sure the input is valid according to the rules of the game.\n",
        "The prompt is already given.  Note that the `list` command converts the input into a list of characters so that it can be passed to the other functions (which are expecting lists).   \n",
        ">**Alert:  you will likely have to think more about data types before this is all over.**"
      ],
      "metadata": {
        "id": "mbK84TdIAVsO"
      }
    },
    {
      "cell_type": "code",
      "source": [
        "def get_guess():\n",
        "    '''\n",
        "    Asks the user for a guess and verifies its legitimacy.\n",
        "    '''\n",
        "    while True:\n",
        "        guess = list(input(\"Enter your guess:\"))\n",
        "\n",
        "        # Check if the guess has exactly 4 digits\n",
        "        if len(guess) != 4:\n",
        "            print(\"Your guess must contain exactly 4 digits. Try again.\")\n",
        "            continue\n",
        "\n",
        "        # Check if all digits are between 1 and 6\n",
        "        if not all(digit.isdigit() and 1 <= int(digit) <= 6 for digit in guess):\n",
        "            print(\"Each digit of your guess must be a number between 1 and 6. Try again.\")\n",
        "            continue\n",
        "\n",
        "        # Check if there are no repeated digits\n",
        "        if len(guess) != len(set(guess)):\n",
        "            print(\"Your guess must not contain repeated digits. Try again.\")\n",
        "            continue\n",
        "\n",
        "        return guess"
      ],
      "metadata": {
        "id": "13HGg6VvBXSH"
      },
      "execution_count": 50,
      "outputs": []
    },
    {
      "cell_type": "markdown",
      "source": [
        "As usual, test your code.  What type of objects are we dealing with here?"
      ],
      "metadata": {
        "id": "PSPYpeZYONf0"
      }
    },
    {
      "cell_type": "code",
      "source": [
        "valid_guess = get_guess()\n",
        "print(valid_guess)"
      ],
      "metadata": {
        "id": "ytgf6BfiOPNh",
        "outputId": "d39e8407-1bf9-4cd9-9d01-5b329209a14b",
        "colab": {
          "base_uri": "https://localhost:8080/"
        }
      },
      "execution_count": 51,
      "outputs": [
        {
          "output_type": "stream",
          "name": "stdout",
          "text": [
            "Enter your guess:1234\n",
            "['1', '2', '3', '4']\n"
          ]
        }
      ]
    },
    {
      "cell_type": "code",
      "source": [
        "valid_guess = get_guess()\n",
        "print(valid_guess)"
      ],
      "metadata": {
        "id": "sLvbaHYWYLHm",
        "outputId": "454d0271-2a66-432f-b4b5-88eff64fb2f8",
        "colab": {
          "base_uri": "https://localhost:8080/"
        }
      },
      "execution_count": 52,
      "outputs": [
        {
          "output_type": "stream",
          "name": "stdout",
          "text": [
            "Enter your guess:123\n",
            "Your guess must contain exactly 4 digits. Try again.\n",
            "Enter your guess:12ab\n",
            "Each digit of your guess must be a number between 1 and 6. Try again.\n",
            "Enter your guess:6421\n",
            "['6', '4', '2', '1']\n"
          ]
        }
      ]
    },
    {
      "cell_type": "markdown",
      "source": [
        "8. **Put it all together**  \n",
        "Finally, fill in the details of the function `bulls_cows` below so that it will play the game of Bulls and Cows when called.  Note that the function takes no arguments and returns nothing.\n"
      ],
      "metadata": {
        "id": "WdtvUrA4-uzn"
      }
    },
    {
      "cell_type": "code",
      "execution_count": 84,
      "metadata": {
        "id": "_u48oidGzRKX"
      },
      "outputs": [],
      "source": [
        "from random import sample\n",
        "\n",
        "def bulls_cows():\n",
        "    '''\n",
        "    This function plays the game \"Bulls and Cows.\"\n",
        "    It takes no arguments and returns nothing.\n",
        "    '''\n",
        "\n",
        "    code = sample(range(1, 7), 4)\n",
        "\n",
        "    for i in range(6):\n",
        "        guess = get_guess()\n",
        "\n",
        "        if code == guess:\n",
        "            print(\"You guessed it!\")\n",
        "            return\n",
        "\n",
        "        print(response(code, guess))\n",
        "\n",
        "    print(f\"You have run out of guesses. The secret code was {code}.\")\n",
        "    return\n",
        "\n",
        "def response(first, second):\n",
        "    '''\n",
        "    Generates a feedback string based on the bulls, cows, and misses.\n",
        "    '''\n",
        "    b = count_bulls(first, second)\n",
        "    c = count_cows(first, second)\n",
        "    l = len(first)\n",
        "\n",
        "    response_str = build_response_str(b, c, l)\n",
        "    return response_str\n",
        "\n",
        "def get_guess():\n",
        "    while True:\n",
        "        try:\n",
        "            guess = [int(digit) for digit in input(\"Enter your guess (4 digits from 1 to 6): \")]\n",
        "\n",
        "            if len(guess) != 4 or not all(1 <= digit <= 6 for digit in guess):\n",
        "                raise ValueError(\"Invalid guess. Please enter 4 digits between 1 and 6.\")\n",
        "\n",
        "            break\n",
        "\n",
        "        except ValueError as e:\n",
        "            print(e)\n",
        "\n",
        "    return guess"
      ]
    },
    {
      "cell_type": "markdown",
      "metadata": {
        "id": "NzjqX_9K3OuV"
      },
      "source": [
        "Play the game a few times below.  Make sure it behaves as you think it should!"
      ]
    },
    {
      "cell_type": "code",
      "execution_count": 82,
      "metadata": {
        "id": "b-HELV-z3OuW",
        "outputId": "cedf3872-b413-449c-e5ca-3c473c94d997",
        "colab": {
          "base_uri": "https://localhost:8080/"
        }
      },
      "outputs": [
        {
          "output_type": "stream",
          "name": "stdout",
          "text": [
            "Enter your guess (4 digits from 1 to 6): 1234\n",
            "CCXX\n",
            "Enter your guess (4 digits from 1 to 6): 1122\n",
            "BCXX\n",
            "Enter your guess (4 digits from 1 to 6): 1267\n",
            "Invalid guess. Please enter 4 digits between 1 and 6.\n",
            "Enter your guess (4 digits from 1 to 6): 1265\n",
            "CCCX\n",
            "Enter your guess (4 digits from 1 to 6): 2165\n",
            "CCCX\n",
            "Enter your guess (4 digits from 1 to 6): 6522\n",
            "BBCCC\n",
            "Enter your guess (4 digits from 1 to 6): 6152\n",
            "CCCX\n",
            "You have run out of guesses. The secret code was [3, 5, 2, 6].\n"
          ]
        }
      ],
      "source": [
        "bulls_cows()"
      ]
    },
    {
      "cell_type": "code",
      "source": [
        "bulls_cows()"
      ],
      "metadata": {
        "id": "inzOdtimDfGU",
        "outputId": "86035a68-a2e1-4a88-eaf7-54067afa5475",
        "colab": {
          "base_uri": "https://localhost:8080/"
        }
      },
      "execution_count": 85,
      "outputs": [
        {
          "output_type": "stream",
          "name": "stdout",
          "text": [
            "Enter your guess (4 digits from 1 to 6): 3456\n",
            "CCXX\n",
            "Enter your guess (4 digits from 1 to 6): 3521\n",
            "BBCX\n",
            "Enter your guess (4 digits from 1 to 6): 1542\n",
            "CCCX\n",
            "Enter your guess (4 digits from 1 to 6): 5421\n",
            "BBBX\n",
            "Enter your guess (4 digits from 1 to 6): 5521\n",
            "BBBC\n",
            "Enter your guess (4 digits from 1 to 6): 5621\n",
            "You guessed it!\n"
          ]
        }
      ]
    },
    {
      "cell_type": "markdown",
      "source": [
        "9. **Reflect**  \n",
        "Think of at least three ways you could change the rules or setup of the game, and in each case describe (in one sentence, you don't need to write code) what you would have to do to modify your code to play the new version of the game.  Use a text box below for each of your ideas."
      ],
      "metadata": {
        "id": "a58-KCX4ELRO"
      }
    },
    {
      "cell_type": "markdown",
      "source": [
        "(1) You could make the game more similar to wordle. It could tell you which letters are an X, B, or C. In order to do this you would need to redefine build_response_str."
      ],
      "metadata": {
        "id": "Jof2vIZSEfwo"
      }
    },
    {
      "cell_type": "markdown",
      "source": [
        "(2) You could allow unlimited guesses by getting rid of the range in get guess."
      ],
      "metadata": {
        "id": "f2_QlBavEiqW"
      }
    },
    {
      "cell_type": "markdown",
      "source": [
        "(3) You could change the range of numbers to 1 to 4 making the game a little bit easier."
      ],
      "metadata": {
        "id": "sqfq2EFpEjZt"
      }
    }
  ],
  "metadata": {
    "colab": {
      "provenance": [],
      "include_colab_link": true
    },
    "kernelspec": {
      "display_name": "Python 3",
      "name": "python3"
    },
    "language_info": {
      "name": "python"
    }
  },
  "nbformat": 4,
  "nbformat_minor": 0
}